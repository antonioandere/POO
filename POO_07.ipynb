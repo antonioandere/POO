{
  "nbformat": 4,
  "nbformat_minor": 0,
  "metadata": {
    "colab": {
      "provenance": []
    },
    "kernelspec": {
      "name": "python3",
      "display_name": "Python 3"
    },
    "language_info": {
      "name": "python"
    }
  },
  "cells": [
    {
      "cell_type": "markdown",
      "source": [
        "# Condicionales..if, elif, else.\n",
        "  "
      ],
      "metadata": {
        "id": "8JutFMXDdUUS"
      }
    },
    {
      "cell_type": "code",
      "execution_count": 8,
      "metadata": {
        "colab": {
          "base_uri": "https://localhost:8080/"
        },
        "id": "8eO71vTXci56",
        "outputId": "5321c3ac-8912-464e-ccc4-df20c1c97685"
      },
      "outputs": [
        {
          "output_type": "stream",
          "name": "stdout",
          "text": [
            "La letra es A\n"
          ]
        }
      ],
      "source": [
        "letra = \"A\"\n",
        "\n",
        "if letra == \"B\":\n",
        "  print(\"La letra es B\")\n",
        "elif letra == \"C\":\n",
        "  print(\"La letra es C\")\n",
        "elif letra == \"A\":\n",
        "  print(\"La letra es A\")\n",
        "else:\n",
        "  (\"La letra no es A ni B ni C\")"
      ]
    },
    {
      "cell_type": "code",
      "source": [
        "numero = int(input(\"Escribe un número \"))\n"
      ],
      "metadata": {
        "colab": {
          "base_uri": "https://localhost:8080/"
        },
        "id": "UyhNkcZedgsK",
        "outputId": "c402002d-8451-4774-c6c2-14184b04d263"
      },
      "execution_count": 9,
      "outputs": [
        {
          "name": "stdout",
          "output_type": "stream",
          "text": [
            "Escribe un número 100\n"
          ]
        }
      ]
    },
    {
      "cell_type": "code",
      "source": [
        "if numero % 2 ==0 and numero % 4 != 0:\n",
        "  print(f\"{numero} es múltiplo de 2\")\n",
        "elif numero % 4== 0:\n",
        "  print(f\"{numero} es múltiplo de 4\")\n",
        "else:\n",
        "  print(f\"{numero} no es múltiplo de 2\")"
      ],
      "metadata": {
        "colab": {
          "base_uri": "https://localhost:8080/"
        },
        "id": "OGo_sdt7eO3a",
        "outputId": "92633473-c7c7-4f65-a81d-19472e310559"
      },
      "execution_count": 10,
      "outputs": [
        {
          "output_type": "stream",
          "name": "stdout",
          "text": [
            "100 es múltiplo de 4\n"
          ]
        }
      ]
    },
    {
      "cell_type": "code",
      "source": [
        "if numero % 3 ==0 and numero % 6 != 0:\n",
        "  print(f\"{numero} es múltiplo de 3\")\n",
        "elif numero % 6== 0:\n",
        "  print(f\"{numero} es múltiplo de 6\")\n",
        "else:\n",
        "  print(f\"{numero} no es múltiplo de 3\")"
      ],
      "metadata": {
        "colab": {
          "base_uri": "https://localhost:8080/"
        },
        "id": "7-TVno9vg6M-",
        "outputId": "bea123d2-174e-4cc6-d71d-cd0ec839efed"
      },
      "execution_count": 11,
      "outputs": [
        {
          "output_type": "stream",
          "name": "stdout",
          "text": [
            "100 no es múltiplo de 3\n"
          ]
        }
      ]
    },
    {
      "cell_type": "code",
      "source": [
        "goles = int(input(\"Cuántos goles metió Messi\"))\n",
        "if goles>=50 and goles<=70:\n",
        "  print(\"Fue una buena temporada para Messi\" )\n",
        "elif goles<=50:\n",
        "  print(\" Fue una temporada regular para Messi\")\n",
        "elif goles>70:\n",
        "  print(\" Fue una temporada de Balón de Oro para Messi\")\n",
        "else:\n",
        "  print(\"Messi no participó esta temporada\")\n",
        "\n"
      ],
      "metadata": {
        "colab": {
          "base_uri": "https://localhost:8080/"
        },
        "id": "t8KXF00IirQZ",
        "outputId": "007356e5-1486-48b4-89e7-392676c452cb"
      },
      "execution_count": 12,
      "outputs": [
        {
          "output_type": "stream",
          "name": "stdout",
          "text": [
            "Cuántos goles metió Messi36\n",
            " Fue una temporada regular para Messi\n"
          ]
        }
      ]
    },
    {
      "cell_type": "markdown",
      "source": [
        "# Clases y polimorfismos"
      ],
      "metadata": {
        "id": "bi8ZnP1Tm8-9"
      }
    },
    {
      "cell_type": "code",
      "source": [
        "class mascota:\n",
        "  def hable(self):\n",
        "    return NotImplementedError\n",
        "class Perro(mascota):\n",
        "  def hable(self):\n",
        "    return \"woof\"\n",
        "class Gato(mascota):\n",
        "  def hable(self):\n",
        "    return \"miau\"\n",
        "class Leon(mascota):\n",
        "  def hable(self):\n",
        "    return \"roar\"\n",
        "class Gallo(mascota):\n",
        "  def hable(self):\n",
        "    return \"kikiriki\"\n"
      ],
      "metadata": {
        "id": "gbA3qUjHkNbf"
      },
      "execution_count": 13,
      "outputs": []
    },
    {
      "cell_type": "code",
      "source": [
        "mascotas = [Perro(), Gato(), Leon(), Gallo()]"
      ],
      "metadata": {
        "id": "s0IzyiIzoGc8"
      },
      "execution_count": 14,
      "outputs": []
    },
    {
      "cell_type": "code",
      "source": [
        "mascotas"
      ],
      "metadata": {
        "colab": {
          "base_uri": "https://localhost:8080/"
        },
        "id": "7JClLKUJofFg",
        "outputId": "caf41fa3-3619-4479-fcaf-03490bbd5d4d"
      },
      "execution_count": 15,
      "outputs": [
        {
          "output_type": "execute_result",
          "data": {
            "text/plain": [
              "[<__main__.Perro at 0x79f8a28c8040>,\n",
              " <__main__.Gato at 0x79f8a28c9750>,\n",
              " <__main__.Leon at 0x79f8a28c8130>,\n",
              " <__main__.Gallo at 0x79f8a28cb3d0>]"
            ]
          },
          "metadata": {},
          "execution_count": 15
        }
      ]
    },
    {
      "cell_type": "code",
      "source": [
        "for mascota in mascotas:\n",
        "  print(mascota.hable())"
      ],
      "metadata": {
        "colab": {
          "base_uri": "https://localhost:8080/"
        },
        "id": "C4GC0KKZo8aZ",
        "outputId": "530c419f-db95-4e70-fc35-8c509dd4e092"
      },
      "execution_count": 16,
      "outputs": [
        {
          "output_type": "stream",
          "name": "stdout",
          "text": [
            "woof\n",
            "miau\n",
            "roar\n",
            "kikiriki\n"
          ]
        }
      ]
    },
    {
      "cell_type": "code",
      "source": [
        "class Persona:\n",
        "  def __init__ (self, nombre,edad):\n",
        "    self.nombre=nombre\n",
        "    self.edad=edad"
      ],
      "metadata": {
        "id": "-eqR0TCGrmwj"
      },
      "execution_count": 17,
      "outputs": []
    },
    {
      "cell_type": "code",
      "source": [
        "Daniela = Persona(\"Daniela\", 21)"
      ],
      "metadata": {
        "id": "TeOiCLS8qMRG"
      },
      "execution_count": 18,
      "outputs": []
    },
    {
      "cell_type": "code",
      "source": [
        "Daniela.nombre"
      ],
      "metadata": {
        "colab": {
          "base_uri": "https://localhost:8080/",
          "height": 35
        },
        "id": "u-2L5Hk1sQEh",
        "outputId": "01c1d00e-8557-49b4-9306-241f5e5613eb"
      },
      "execution_count": 19,
      "outputs": [
        {
          "output_type": "execute_result",
          "data": {
            "text/plain": [
              "'Daniela'"
            ],
            "application/vnd.google.colaboratory.intrinsic+json": {
              "type": "string"
            }
          },
          "metadata": {},
          "execution_count": 19
        }
      ]
    },
    {
      "cell_type": "code",
      "source": [
        "Daniela.edad"
      ],
      "metadata": {
        "colab": {
          "base_uri": "https://localhost:8080/"
        },
        "id": "W-bEX7slsSWY",
        "outputId": "bd8cc8b7-3df3-460a-92ea-f49ab36f67cd"
      },
      "execution_count": 20,
      "outputs": [
        {
          "output_type": "execute_result",
          "data": {
            "text/plain": [
              "21"
            ]
          },
          "metadata": {},
          "execution_count": 20
        }
      ]
    },
    {
      "cell_type": "code",
      "source": [
        "class Animal():\n",
        "  def __init__(self):\n",
        "    print (\"Animal class creada\")\n",
        "  def guess_who(self):\n",
        "    print (\"Soy un animalito\")\n",
        "  def sleep(self):\n",
        "    print (\"Estoy durmiendo\")\n"
      ],
      "metadata": {
        "id": "axrhi4Etrll0"
      },
      "execution_count": 25,
      "outputs": []
    },
    {
      "cell_type": "code",
      "source": [
        "my_animal=Animal()"
      ],
      "metadata": {
        "colab": {
          "base_uri": "https://localhost:8080/"
        },
        "id": "jXBcRn1XrpKD",
        "outputId": "e265eafc-8ac2-4181-a9ee-5c08b705d47f"
      },
      "execution_count": 26,
      "outputs": [
        {
          "output_type": "stream",
          "name": "stdout",
          "text": [
            "Animal class creada\n"
          ]
        }
      ]
    },
    {
      "cell_type": "code",
      "source": [
        "my_animal.sleep()"
      ],
      "metadata": {
        "colab": {
          "base_uri": "https://localhost:8080/"
        },
        "id": "etGFltN1tgdT",
        "outputId": "820ad2d2-6109-4016-c4c8-3ca69d9bedee"
      },
      "execution_count": 27,
      "outputs": [
        {
          "output_type": "stream",
          "name": "stdout",
          "text": [
            "Estoy durmiendo\n"
          ]
        }
      ]
    },
    {
      "cell_type": "code",
      "source": [
        "class Cat(Animal):\n",
        "  def __init__(self):\n",
        "    Animal.__init__(self)\n",
        "    print(\"Cat class creada\")\n",
        "  def guess_who(self):\n",
        "    print(\"Soy un gatito\")\n",
        "  def meow(self):\n",
        "    print(\"MEOWW!\")\n"
      ],
      "metadata": {
        "id": "HfhdQq3Xt7md"
      },
      "execution_count": 28,
      "outputs": []
    },
    {
      "cell_type": "code",
      "source": [
        "my_cat=Cat()"
      ],
      "metadata": {
        "colab": {
          "base_uri": "https://localhost:8080/"
        },
        "id": "LInO2p-ZxGSO",
        "outputId": "d95486e1-b057-4013-d2f5-1d96d3f9019f"
      },
      "execution_count": 29,
      "outputs": [
        {
          "output_type": "stream",
          "name": "stdout",
          "text": [
            "Animal class creada\n",
            "Cat class creada\n"
          ]
        }
      ]
    },
    {
      "cell_type": "code",
      "source": [
        "my_cat.guess_who()"
      ],
      "metadata": {
        "colab": {
          "base_uri": "https://localhost:8080/"
        },
        "id": "TXueiSuixMLO",
        "outputId": "5cc93449-0446-4f4a-bdfc-59776fce0c0c"
      },
      "execution_count": 30,
      "outputs": [
        {
          "output_type": "stream",
          "name": "stdout",
          "text": [
            "Soy un gatito\n"
          ]
        }
      ]
    },
    {
      "cell_type": "code",
      "source": [
        "my_cat.meow()"
      ],
      "metadata": {
        "colab": {
          "base_uri": "https://localhost:8080/"
        },
        "id": "JLoeSBNMxS7m",
        "outputId": "0e31e8e5-033f-4ab0-b0d2-11d420039e11"
      },
      "execution_count": 31,
      "outputs": [
        {
          "output_type": "stream",
          "name": "stdout",
          "text": [
            "MEOWW!\n"
          ]
        }
      ]
    },
    {
      "cell_type": "markdown",
      "source": [
        "#Polimorfismos\n",
        "\n",
        "\n"
      ],
      "metadata": {
        "id": "UQLOUX14yODW"
      }
    },
    {
      "cell_type": "code",
      "source": [
        "class Doggy():\n",
        "  def __init__(self,name,raza):\n",
        "    self.name=name\n",
        "    self.raza=raza\n",
        "  def speak(self):\n",
        "    return self.name + \" dice WOOF\""
      ],
      "metadata": {
        "id": "FwjX3K4tyQn4"
      },
      "execution_count": 56,
      "outputs": []
    },
    {
      "cell_type": "code",
      "source": [
        "class Catty():\n",
        "  def __init__(self,name,raza):\n",
        "    self.name=name\n",
        "    self.raza=raza\n",
        "  def speak(self):\n",
        "    return self.name + \" dice MEOWW\""
      ],
      "metadata": {
        "id": "gIr9KY2Nyoom"
      },
      "execution_count": 57,
      "outputs": []
    },
    {
      "cell_type": "code",
      "source": [
        "my_dog = Doggy(\"Buzz\",\"Dalmata\")\n",
        "my_cat = Catty(\"Tom\",\"Persa\")"
      ],
      "metadata": {
        "id": "ZjzZx44QzR_n"
      },
      "execution_count": 58,
      "outputs": []
    },
    {
      "cell_type": "code",
      "source": [
        "my_dog.speak()"
      ],
      "metadata": {
        "colab": {
          "base_uri": "https://localhost:8080/",
          "height": 35
        },
        "id": "Q6Uflzg40BS2",
        "outputId": "449cff44-8f99-47dc-bc70-3dda88c4bf46"
      },
      "execution_count": 59,
      "outputs": [
        {
          "output_type": "execute_result",
          "data": {
            "text/plain": [
              "'Buzz dice WOOF'"
            ],
            "application/vnd.google.colaboratory.intrinsic+json": {
              "type": "string"
            }
          },
          "metadata": {},
          "execution_count": 59
        }
      ]
    },
    {
      "cell_type": "code",
      "source": [
        "my_cat.speak()"
      ],
      "metadata": {
        "colab": {
          "base_uri": "https://localhost:8080/",
          "height": 35
        },
        "id": "fF70Azg40_0f",
        "outputId": "3c5f300d-d71c-439d-fde9-0aa7536a31ba"
      },
      "execution_count": 60,
      "outputs": [
        {
          "output_type": "execute_result",
          "data": {
            "text/plain": [
              "'Tom dice MEOWW'"
            ],
            "application/vnd.google.colaboratory.intrinsic+json": {
              "type": "string"
            }
          },
          "metadata": {},
          "execution_count": 60
        }
      ]
    }
  ]
}