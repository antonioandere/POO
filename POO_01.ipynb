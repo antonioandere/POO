{
  "nbformat": 4,
  "nbformat_minor": 0,
  "metadata": {
    "colab": {
      "provenance": []
    },
    "kernelspec": {
      "name": "python3",
      "display_name": "Python 3"
    },
    "language_info": {
      "name": "python"
    }
  },
  "cells": [
    {
      "cell_type": "markdown",
      "source": [],
      "metadata": {
        "id": "ji5OaGhgUshV"
      }
    },
    {
      "cell_type": "markdown",
      "source": [
        "# Introducción a objetos\n",
        "## Primeros Objetos"
      ],
      "metadata": {
        "id": "btSa-LMDTaJh"
      }
    },
    {
      "cell_type": "markdown",
      "source": [
        "La función que identifica el tipo de objeto es la función `type`\n"
      ],
      "metadata": {
        "id": "Uh5VYxOcU0mk"
      }
    },
    {
      "cell_type": "markdown",
      "source": [
        "Las variables se escriben como sigue"
      ],
      "metadata": {
        "id": "-eq_-sm9Vhhe"
      }
    },
    {
      "cell_type": "code",
      "source": [
        "num=5\n",
        "saludo=\"Hola, mundo!\""
      ],
      "metadata": {
        "id": "vgGGxjJaVrVd"
      },
      "execution_count": 12,
      "outputs": []
    },
    {
      "cell_type": "code",
      "source": [
        "print(num)"
      ],
      "metadata": {
        "colab": {
          "base_uri": "https://localhost:8080/"
        },
        "id": "8R0opi30Wf-E",
        "outputId": "88598957-9a40-4d1e-a8d1-c04542e35c93"
      },
      "execution_count": 3,
      "outputs": [
        {
          "output_type": "stream",
          "name": "stdout",
          "text": [
            "5\n"
          ]
        }
      ]
    },
    {
      "cell_type": "code",
      "source": [
        "print(saludo)"
      ],
      "metadata": {
        "colab": {
          "base_uri": "https://localhost:8080/"
        },
        "id": "ovRBoCExW5yx",
        "outputId": "524d44b9-ce43-4a54-906c-a5f6ba76660d"
      },
      "execution_count": 13,
      "outputs": [
        {
          "output_type": "stream",
          "name": "stdout",
          "text": [
            "Hola, mundo!\n"
          ]
        }
      ]
    },
    {
      "cell_type": "code",
      "source": [
        "type(num)"
      ],
      "metadata": {
        "colab": {
          "base_uri": "https://localhost:8080/"
        },
        "id": "LfEVDASOUkO8",
        "outputId": "0d43f717-51d2-499b-b04f-39059b366614"
      },
      "execution_count": 14,
      "outputs": [
        {
          "output_type": "execute_result",
          "data": {
            "text/plain": [
              "int"
            ]
          },
          "metadata": {},
          "execution_count": 14
        }
      ]
    },
    {
      "cell_type": "code",
      "source": [
        "type(saludo)"
      ],
      "metadata": {
        "colab": {
          "base_uri": "https://localhost:8080/"
        },
        "id": "uHkb3b7gXSeA",
        "outputId": "f5932254-f4cc-403f-b76a-3590cce6fc46"
      },
      "execution_count": 15,
      "outputs": [
        {
          "output_type": "execute_result",
          "data": {
            "text/plain": [
              "str"
            ]
          },
          "metadata": {},
          "execution_count": 15
        }
      ]
    },
    {
      "cell_type": "code",
      "source": [
        "# El siguiente código verifica si num y saludo son objetos iguales o diferentes.\n",
        "# El resultado arroja un valor booleano.\n",
        "type(num)==type(saludo)"
      ],
      "metadata": {
        "colab": {
          "base_uri": "https://localhost:8080/"
        },
        "id": "J1RwvGymXveG",
        "outputId": "33d7a944-55b0-4933-b0df-393d14da4afa"
      },
      "execution_count": 16,
      "outputs": [
        {
          "output_type": "execute_result",
          "data": {
            "text/plain": [
              "False"
            ]
          },
          "metadata": {},
          "execution_count": 16
        }
      ]
    },
    {
      "cell_type": "code",
      "source": [
        "# Convierte un entero en flotante.\n",
        "float(num)"
      ],
      "metadata": {
        "colab": {
          "base_uri": "https://localhost:8080/"
        },
        "id": "MY_B47IbZJ88",
        "outputId": "7d392362-26ba-4dcc-d43a-7dc7220a406a"
      },
      "execution_count": 17,
      "outputs": [
        {
          "output_type": "execute_result",
          "data": {
            "text/plain": [
              "5.0"
            ]
          },
          "metadata": {},
          "execution_count": 17
        }
      ]
    },
    {
      "cell_type": "code",
      "source": [
        "# Convierte un entero en string.\n",
        "nums = str(num)\n",
        "print(nums)"
      ],
      "metadata": {
        "colab": {
          "base_uri": "https://localhost:8080/"
        },
        "id": "geycI9ZKZZi-",
        "outputId": "177d9222-88bd-4382-d0fd-4040c97ab177"
      },
      "execution_count": 22,
      "outputs": [
        {
          "output_type": "stream",
          "name": "stdout",
          "text": [
            "5\n"
          ]
        }
      ]
    },
    {
      "cell_type": "code",
      "source": [
        "type(nums)==type(saludo)"
      ],
      "metadata": {
        "colab": {
          "base_uri": "https://localhost:8080/"
        },
        "id": "SbKQKdx9aG-3",
        "outputId": "53faf92f-4737-49f3-b815-de41bc9dce2e"
      },
      "execution_count": 21,
      "outputs": [
        {
          "output_type": "execute_result",
          "data": {
            "text/plain": [
              "True"
            ]
          },
          "metadata": {},
          "execution_count": 21
        }
      ]
    },
    {
      "cell_type": "code",
      "source": [
        "range(11)"
      ],
      "metadata": {
        "colab": {
          "base_uri": "https://localhost:8080/"
        },
        "id": "h-SI9lAAaHLz",
        "outputId": "f4c2cd48-d121-4e0c-c4cb-2cb105b56eb5"
      },
      "execution_count": 26,
      "outputs": [
        {
          "output_type": "execute_result",
          "data": {
            "text/plain": [
              "range(0, 10)"
            ]
          },
          "metadata": {},
          "execution_count": 26
        }
      ]
    },
    {
      "cell_type": "code",
      "source": [
        "# Vamos a mostrar los elementos de range(10)\n",
        "for i in range(11):\n",
        "  print(i)"
      ],
      "metadata": {
        "colab": {
          "base_uri": "https://localhost:8080/"
        },
        "id": "EkCuVI_Ub7-G",
        "outputId": "e728c3e5-6530-42f4-9b86-ee6385db056f"
      },
      "execution_count": 30,
      "outputs": [
        {
          "output_type": "stream",
          "name": "stdout",
          "text": [
            "0\n",
            "1\n",
            "2\n",
            "3\n",
            "4\n",
            "5\n",
            "6\n",
            "7\n",
            "8\n",
            "9\n",
            "10\n"
          ]
        }
      ]
    },
    {
      "cell_type": "markdown",
      "source": [
        "**Los índices en Python empiezan en 0**"
      ],
      "metadata": {
        "id": "Kem-t2i2beEr"
      }
    },
    {
      "cell_type": "markdown",
      "source": [
        "Listas:\n",
        "var=[]"
      ],
      "metadata": {
        "id": "HRMfSZ-aeD1k"
      }
    },
    {
      "cell_type": "code",
      "source": [
        "lista_1=[1,\"1\",1.0,[2,3]]"
      ],
      "metadata": {
        "id": "COgJiLz8d4KA"
      },
      "execution_count": 31,
      "outputs": []
    },
    {
      "cell_type": "code",
      "source": [
        "lista_2=[x for x in range(11)]\n",
        "print(lista_2)"
      ],
      "metadata": {
        "colab": {
          "base_uri": "https://localhost:8080/"
        },
        "id": "e6UfArV9e1AF",
        "outputId": "348d4cd4-edcd-40a9-c2f3-d0911cdf7b9a"
      },
      "execution_count": 32,
      "outputs": [
        {
          "output_type": "stream",
          "name": "stdout",
          "text": [
            "[0, 1, 2, 3, 4, 5, 6, 7, 8, 9, 10]\n"
          ]
        }
      ]
    }
  ]
}