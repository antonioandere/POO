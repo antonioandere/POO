{
  "nbformat": 4,
  "nbformat_minor": 0,
  "metadata": {
    "colab": {
      "provenance": []
    },
    "kernelspec": {
      "name": "python3",
      "display_name": "Python 3"
    },
    "language_info": {
      "name": "python"
    }
  },
  "cells": [
    {
      "cell_type": "markdown",
      "source": [
        "Tarea\n",
        "Instrucciones:\n",
        "\n",
        "La tarea se entrega individualmente.\n",
        "Leer los lineamientos e instrucciones que se enuentran en Moodle.\n",
        "Sube tu Notebook a tu GitHub\n",
        "La entrega se hace por Moodle compartiendo tu liga a GitHub.\n",
        "Fecha de entrega Martes 26 de septiembre antes de las 20:00hrs\n",
        "Si existiera duda alguna, mandarlas por email."
      ],
      "metadata": {
        "id": "NonWp5L2rCWO"
      }
    },
    {
      "cell_type": "markdown",
      "source": [],
      "metadata": {
        "id": "eoNHNKOd__Y6"
      }
    },
    {
      "cell_type": "markdown",
      "source": [
        "Tarea 2.1\n",
        "\n",
        "Antonio Andere y Juan Pablo Helguera"
      ],
      "metadata": {
        "id": "1rXfx4yZrCjL"
      }
    },
    {
      "cell_type": "code",
      "source": [
        "# Crea una clase que se llame Animal\n",
        "class Animal():\n",
        "# define un inicializador que contenga dos argumentos (a y b) que asignarás\n",
        "    def __init__(self, raza, edad):\n",
        "      self.raza=raza\n",
        "      self.redad=edad\n",
        "\n",
        "# Crea una clase heredada que se llame Mascota\n",
        "class Mascota(Animal):\n",
        "    # usar super(), (objeto temporal de la superclase) nos permite acceder a métodos de la clase madre\n",
        "\n",
        "    # define tres métodos asociados a Mascota\n",
        "    def __init__(self, raza, edad, name):\n",
        "        super().__init__(self, raza, edad, name)\n",
        "        self.raza=raza\n",
        "        self.edad=edad\n",
        "        self.name=name\n",
        "        \"Escribe código\"\n",
        "\n",
        "    def guess_who(name):\n",
        "      print(\"yo soy garfield\")\n",
        "    def guess_raza(raza):\n",
        "      print(\"soy un pajaro azul\")\n",
        "    def guess_edad(edad):\n",
        "      print (\"tengo 15 años\")\n",
        "\n",
        "#primero creamos una clase madre llamada animal la cual inicializamos y le damos dos argumentos, estas caracteristicas se las heredamos a otra clase llamada mascota para la cual usaos super y definimos 3 metodos asociados,\n",
        "# despues ponemos diferentes definiciones para que nos imprima la raza el nombre y la edad."
      ],
      "metadata": {
        "id": "ucbYckf3rC1s"
      },
      "execution_count": null,
      "outputs": []
    },
    {
      "cell_type": "code",
      "source": [
        "# Crea dos clases que tengan asignados nombres de Países.\n",
        "# Para cada clase, define al menos tres características del País considerado: por ejemplo, capital, idioma, etcétera\n",
        "class Francia():\n",
        "  def __init__(self, nombre, capital, idioma):\n",
        "    print(\"pais_1 class creada\")\n",
        "    self.nombre=nombre\n",
        "    self.capital=capital\n",
        "    self.idioma=idioma\n",
        "  def nombre(self):\n",
        "    return self.nombre + \"Francia\"\n",
        "  def capital(self):\n",
        "    return self.capital + \"paris\"\n",
        "  def idioma(self):\n",
        "    return self.idioma + \"frances\"\n",
        "class Italia():\n",
        "  def __init__(self, nombre, capital, idioma):\n",
        "    print(\"pais_2 class creada\")\n",
        "    self.nombre=nombre\n",
        "    self.capital=capital\n",
        "    self.idioma=idioma\n",
        "  def nombre(self):\n",
        "    return self.nombre + \"Italia\"\n",
        "  def capital(self):\n",
        "    return self.capital + \"roma\"\n",
        "  def idioma(self):\n",
        "    return self.idioma + \"italiano\"\n",
        "\n",
        "# Define dos variables que sean cursores\n",
        "Var1=Francia(\"Francia\", \"paris\",\"frances\")\n",
        "var2=Italia(\"Italia\", \"roma\", \"italiano\")\n",
        "\n",
        "for pais in (Var1, var2 ):\n",
        "   print(pais.nombre)\n",
        "   print(pais.capital)\n",
        "   print(pais.idioma)\n",
        "   print(type(pais))\n",
        "   print(type(pais.nombre))\n",
        "   print(type(pais.capital))\n",
        "   print(type(pais.idioma))\n",
        "\n",
        "# Comenta tus resultados\n",
        "# comenzamos por crear la clase del pais 1 a la cual atribuimos 3 atributos, nombre, capital e idioma. hacemos definiciones para que nos devuelva esos valores y repetimos con el segundo pais.\n",
        "#hacemos un for para que nos imprima lo que deseamos y le pedimos que nos de el tipo de cada uno de estos como se puede ver abajo."
      ],
      "metadata": {
        "colab": {
          "base_uri": "https://localhost:8080/"
        },
        "id": "rg1JEaTyrPLW",
        "outputId": "cb06bdd8-cf51-4e96-9734-50a7e6fb814d"
      },
      "execution_count": null,
      "outputs": [
        {
          "output_type": "stream",
          "name": "stdout",
          "text": [
            "pais_1 class creada\n",
            "pais_2 class creada\n",
            "Francia\n",
            "paris\n",
            "frances\n",
            "<class '__main__.Francia'>\n",
            "<class 'str'>\n",
            "<class 'str'>\n",
            "<class 'str'>\n",
            "Italia\n",
            "roma\n",
            "italiano\n",
            "<class '__main__.Italia'>\n",
            "<class 'str'>\n",
            "<class 'str'>\n",
            "<class 'str'>\n"
          ]
        }
      ]
    },
    {
      "cell_type": "code",
      "source": [
        "## Ejemplo de polimorfismo de clase y herencia.\n",
        "\n",
        "# Crea una clase madre que se llame Forma\n",
        "import math\n",
        "\n",
        "class Forma():\n",
        "  def area(self):\n",
        "    pass\n",
        "  def perimetro(self):\n",
        "    pass\n",
        "# Crea dos clases heredadas de la clase madre Forma que calcule el área y el perímetro de un círculo\n",
        "class Circulo(Forma):\n",
        "  def __init__(self, radio):\n",
        "    self.radio=radio\n",
        "  def area(self):\n",
        "    return math.pi*self.radio**2\n",
        "  def perimetro(self):\n",
        "    return 2*math.pi*self.radio\n",
        "\n",
        "class Cuadrado(Forma):\n",
        "    def __init__(self, lado):\n",
        "        self.lado = lado\n",
        "    def area(self):\n",
        "        return self.lado ** 2\n",
        "    def perimetro(self):\n",
        "        return 4 * self.lado\n",
        "\n",
        "circulo=Circulo(16)\n",
        "cuadrado=Cuadrado(12)\n",
        "\n",
        "\n",
        "print(f\"círculo: el area es {circulo.area()}\")\n",
        "print(f\"círculo: el perimetro es {circulo.perimetro()}\")\n",
        "print(f\"cuadrado: el area es {cuadrado.area()}\")\n",
        "print(f\"cuadrado: el area es {cuadrado.perimetro()}\")\n",
        "\n",
        "#primero creamos una clase madre llamada forma que tendra dos clases heredadas, circulo y cuadrado, en la clase madre hacemos 2 definiciiones la de area y la de perimetro.\n",
        "#estas dos definiciones las usaremos en cada clase heredada para sacar el resultado, usamos dos variables respectivamente en las clases heredadas, radio y lado, y le damos.\n",
        "#la formula a cada una de ellas, pedimos que nos imprima las respuestas como se ve abajo"
      ],
      "metadata": {
        "colab": {
          "base_uri": "https://localhost:8080/"
        },
        "id": "GYaJbqYkrU_t",
        "outputId": "31dab46d-e92f-4a3f-c70e-51af7840fad4"
      },
      "execution_count": null,
      "outputs": [
        {
          "output_type": "stream",
          "name": "stdout",
          "text": [
            "círculo: el area es 804.247719318987\n",
            "círculo: el perimetro es 100.53096491487338\n",
            "cuadrado: el area es 144\n",
            "cuadrado: el area es 48\n"
          ]
        }
      ]
    }
  ]
}