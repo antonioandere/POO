{
  "nbformat": 4,
  "nbformat_minor": 0,
  "metadata": {
    "colab": {
      "provenance": []
    },
    "kernelspec": {
      "name": "python3",
      "display_name": "Python 3"
    },
    "language_info": {
      "name": "python"
    }
  },
  "cells": [
    {
      "cell_type": "code",
      "execution_count": null,
      "metadata": {
        "id": "94u4N_Ly3ir0"
      },
      "outputs": [],
      "source": [
        "# Importar las librerías\n",
        "\n",
        "import numpy as np\n",
        "import pandas as pd\n",
        "\n",
        "import datetime\n",
        "import matplotlib.pyplot as plt\n",
        "\n",
        "from pandas.plotting import scatter_matrix"
      ]
    },
    {
      "cell_type": "code",
      "source": [
        "import yfinance as yf"
      ],
      "metadata": {
        "id": "H9fOxHPR4qac"
      },
      "execution_count": null,
      "outputs": []
    },
    {
      "cell_type": "code",
      "source": [
        "!pip install yfinance"
      ],
      "metadata": {
        "colab": {
          "base_uri": "https://localhost:8080/"
        },
        "id": "BICp3ypP5Czj",
        "outputId": "805bdb26-de93-4de7-cdad-e7d36faa4a67"
      },
      "execution_count": null,
      "outputs": [
        {
          "output_type": "stream",
          "name": "stdout",
          "text": [
            "Requirement already satisfied: yfinance in /usr/local/lib/python3.10/dist-packages (0.2.32)\n",
            "Requirement already satisfied: pandas>=1.3.0 in /usr/local/lib/python3.10/dist-packages (from yfinance) (1.5.3)\n",
            "Requirement already satisfied: numpy>=1.16.5 in /usr/local/lib/python3.10/dist-packages (from yfinance) (1.23.5)\n",
            "Requirement already satisfied: requests>=2.31 in /usr/local/lib/python3.10/dist-packages (from yfinance) (2.31.0)\n",
            "Requirement already satisfied: multitasking>=0.0.7 in /usr/local/lib/python3.10/dist-packages (from yfinance) (0.0.11)\n",
            "Requirement already satisfied: lxml>=4.9.1 in /usr/local/lib/python3.10/dist-packages (from yfinance) (4.9.3)\n",
            "Requirement already satisfied: appdirs>=1.4.4 in /usr/local/lib/python3.10/dist-packages (from yfinance) (1.4.4)\n",
            "Requirement already satisfied: pytz>=2022.5 in /usr/local/lib/python3.10/dist-packages (from yfinance) (2023.3.post1)\n",
            "Requirement already satisfied: frozendict>=2.3.4 in /usr/local/lib/python3.10/dist-packages (from yfinance) (2.3.10)\n",
            "Requirement already satisfied: peewee>=3.16.2 in /usr/local/lib/python3.10/dist-packages (from yfinance) (3.17.0)\n",
            "Requirement already satisfied: beautifulsoup4>=4.11.1 in /usr/local/lib/python3.10/dist-packages (from yfinance) (4.11.2)\n",
            "Requirement already satisfied: html5lib>=1.1 in /usr/local/lib/python3.10/dist-packages (from yfinance) (1.1)\n",
            "Requirement already satisfied: soupsieve>1.2 in /usr/local/lib/python3.10/dist-packages (from beautifulsoup4>=4.11.1->yfinance) (2.5)\n",
            "Requirement already satisfied: six>=1.9 in /usr/local/lib/python3.10/dist-packages (from html5lib>=1.1->yfinance) (1.16.0)\n",
            "Requirement already satisfied: webencodings in /usr/local/lib/python3.10/dist-packages (from html5lib>=1.1->yfinance) (0.5.1)\n",
            "Requirement already satisfied: python-dateutil>=2.8.1 in /usr/local/lib/python3.10/dist-packages (from pandas>=1.3.0->yfinance) (2.8.2)\n",
            "Requirement already satisfied: charset-normalizer<4,>=2 in /usr/local/lib/python3.10/dist-packages (from requests>=2.31->yfinance) (3.3.2)\n",
            "Requirement already satisfied: idna<4,>=2.5 in /usr/local/lib/python3.10/dist-packages (from requests>=2.31->yfinance) (3.6)\n",
            "Requirement already satisfied: urllib3<3,>=1.21.1 in /usr/local/lib/python3.10/dist-packages (from requests>=2.31->yfinance) (2.0.7)\n",
            "Requirement already satisfied: certifi>=2017.4.17 in /usr/local/lib/python3.10/dist-packages (from requests>=2.31->yfinance) (2023.11.17)\n"
          ]
        }
      ]
    },
    {
      "cell_type": "markdown",
      "source": [
        " Vamos a comparar estadísticamente una lista de tickers."
      ],
      "metadata": {
        "id": "sA0jgKCd5cGb"
      }
    },
    {
      "cell_type": "code",
      "source": [
        "# Vamos a descargar tres tickers\n",
        "\n",
        "fecha_inicial = \"2020-01-01\"\n",
        "fecha_final = \"2022-01-05\""
      ],
      "metadata": {
        "id": "Vhu0i3lq5Onr"
      },
      "execution_count": null,
      "outputs": []
    },
    {
      "cell_type": "code",
      "source": [
        "femsa =  yf.download(\"FEMSAUB.MX\", fecha_inicial, fecha_final)\n",
        "femsa"
      ],
      "metadata": {
        "id": "Dab6j5iY6ByT"
      },
      "execution_count": null,
      "outputs": []
    },
    {
      "cell_type": "code",
      "source": [
        "\n",
        "herdez= yf.download(\"HERDEZ.MX\", fecha_inicial, fecha_final)\n",
        "femsa =  yf.download(\"FEMSAUB.MX\", fecha_inicial, fecha_final)\n",
        "cuervo= yf.download(\"CUERVO.MX\", fecha_inicial, fecha_final)\n",
        "ac= yf.download(\"AC.MX\", fecha_inicial, fecha_final)\n",
        "alsea= yf.download(\"ALSEA.MX\", fecha_inicial, fecha_final)\n",
        "\n"
      ],
      "metadata": {
        "id": "FIo73hw67Xm7"
      },
      "execution_count": null,
      "outputs": []
    },
    {
      "cell_type": "code",
      "source": [
        "tickers = [\"FEMSAUB.MX\", \"HERDEZ.MX\", \"AC.MX\", \"ALSEA.MX\"]\n",
        "datos = yf.download(tickers, fecha_inicial, fecha_final)[\"Close\"]\n",
        "datos"
      ],
      "metadata": {
        "id": "emmJU6dY8iua"
      },
      "execution_count": null,
      "outputs": []
    },
    {
      "cell_type": "code",
      "source": [
        "datos.describe()"
      ],
      "metadata": {
        "id": "xRyb4NNQ9nta"
      },
      "execution_count": null,
      "outputs": []
    },
    {
      "cell_type": "code",
      "source": [
        "varianza = datos.std()**2\n",
        "varianza"
      ],
      "metadata": {
        "id": "1m1fkqEh-hNb"
      },
      "execution_count": null,
      "outputs": []
    },
    {
      "cell_type": "code",
      "source": [
        "rendimientos=datos.pct_change()\n"
      ],
      "metadata": {
        "id": "X01jja1PAf5z"
      },
      "execution_count": null,
      "outputs": []
    },
    {
      "cell_type": "code",
      "source": [
        "var = rendimientos.var()*100\n",
        "var"
      ],
      "metadata": {
        "id": "lCIcRHIbBGXL"
      },
      "execution_count": null,
      "outputs": []
    },
    {
      "cell_type": "code",
      "source": [
        "rendimientos.describe()"
      ],
      "metadata": {
        "id": "hb6vLjpdBNHy"
      },
      "execution_count": null,
      "outputs": []
    },
    {
      "cell_type": "code",
      "source": [
        "datos.cov()"
      ],
      "metadata": {
        "id": "Ncmk3whECEgL"
      },
      "execution_count": null,
      "outputs": []
    },
    {
      "cell_type": "code",
      "source": [
        "herdez[\"Rendimientos\"] = (herdez[\"Close\"]/herdez[\"Close\"].shift(1))-1\n",
        "herdez = herdez[[\"Close\", \"Rendimientos\"]].dropna()\n",
        "herdez"
      ],
      "metadata": {
        "id": "x4OlkHI5Ebx7"
      },
      "execution_count": null,
      "outputs": []
    },
    {
      "cell_type": "code",
      "source": [
        "herdez[\"Rendimientos\"].hist(bins=)"
      ],
      "metadata": {
        "id": "PEcZmW5HFsDK"
      },
      "execution_count": null,
      "outputs": []
    }
  ]
}