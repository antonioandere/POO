{
  "nbformat": 4,
  "nbformat_minor": 0,
  "metadata": {
    "colab": {
      "provenance": []
    },
    "kernelspec": {
      "name": "python3",
      "display_name": "Python 3"
    },
    "language_info": {
      "name": "python"
    }
  },
  "cells": [
    {
      "cell_type": "markdown",
      "source": [
        "## Examen\n",
        "\n",
        "* Es necesario seguir los lineamientos ya preestablecidos.\n",
        "\n",
        "* Habrá cero tolerancia al plagio.\n",
        "\n",
        "* Sólo podrás hacer uso de las libretas que tengas, no se permite el uso de ChatGPT.\n",
        "\n",
        "* Todas las soluciones deben presentarse de manera lógica. Se penalizará la ausencia de argumentos y de documentación."
      ],
      "metadata": {
        "id": "FPn1ofmxn3kZ"
      }
    },
    {
      "cell_type": "markdown",
      "source": [
        "**Ejercicio 1:**\n",
        "\n",
        "¿Qué es una clase y por qué es útil? \\\\\n",
        "Define una clase con un ejemplo, dando todas sus características.\n",
        "\n",
        "---"
      ],
      "metadata": {
        "id": "D10OzGjmgckI"
      }
    },
    {
      "cell_type": "markdown",
      "source": [
        "**Ejercicio 2:**\n",
        "\n",
        "En Python, un **constructor** es un método especial que se llama automáticamente cuando se crea un objeto. Se utiliza para inicializar los atributos del objeto y realizar cualquier tarea de configuración necesaria antes de su uso. \\\\\n",
        "\n",
        "Para este ejercicio contesta las siguientes preguntas:\n",
        "\n",
        "\n",
        "1.   ¿Cuál es la sintaxis para definir un constructor dentro de una clase?\n",
        "2.   Considera el siguiente código: \\\\\n",
        "\n",
        "![constructor.png](data:image/png;base64,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)\n",
        "\n",
        "\\\\\n",
        "La clase 'Human' tiene un constructor que toma dos parametros, ¿cuáles son?\n",
        "\n"
      ],
      "metadata": {
        "id": "caEiR85Lek1e"
      }
    },
    {
      "cell_type": "markdown",
      "source": [
        "3. Crea dos atributos (definiciones y polimorfismos) asociados a la clase 'Human´.\n",
        "\n",
        "---"
      ],
      "metadata": {
        "id": "18IVZ8IJ34qb"
      }
    },
    {
      "cell_type": "markdown",
      "source": [
        "**Ejercicio 3:**\n",
        "\n",
        "Indica si las siguientes afirmaciones son verdaderas o falsas:\n",
        "\n",
        "\n",
        "\n",
        "*   El primer parámetro del método '__ init() __' es siempre 'self' , que se refiere a la instancia de la clase que se está creando. Se pasa automáticamente al constructor cuando se instancia el objeto.\n",
        "*   Después de 'self', puedes definir cualquier otro parámetro necesario para inicializar los atributos del objeto.\n",
        "*   Cuando añades la función '__ init ()  __' , la clase heredada ya no hereda la función ' __ init () __ ' de la clase madre.\n",
        "*   En la programación orientada a objetos, las clases pueden heredar atributos y métodos de otras clases.\n",
        "*  Cuando hablamos de polimorfismos en Python, diferentes clases pueden ser tratadas como instancias de la misma superclase, independientemente de cómo implementen el mismo método.\n",
        "\n",
        "---"
      ],
      "metadata": {
        "id": "t3EQFoKfuUII"
      }
    },
    {
      "cell_type": "markdown",
      "source": [
        "**Ejercicio 4:** A partir de un diccionario, crea un DataFrame (que llamarás **precios_muestra**) que consista de dos columnas y que tenga 12 valores **flotantes** que eligirás de manera aleatoria en el intervalo (8,13). Etiqueta del 1 al 12 y llama a la columna de etiquetas Mes.\n",
        "\n",
        "1.- Construye una función que calcule los rendimientos simples de cada columna.\n",
        "\n",
        "2.- Las desviaciones estadísticas de los rendimientos ayudan a calcular la volatilidad del portafolio:\n",
        "$$\\text{desviaciones}=(\\text{rendimientos}-\\text{media}(\\text{rendimientos}))^2.$$\n",
        "Crea una función que calcule la media de las desviaciones y luego la volatilidad de tu portafolio (raíz cuadrada de la media de las desviaciones).\n",
        "\n",
        "3.- Anualizamos la volatilidad escalándola (multiplicándola) por la raíz cuadrada del número de períodos por observación.\n",
        "\n",
        "Por lo tanto, para anualizar la volatilidad de una serie mensual, la multiplicamos por la raíz cuadrada de 12. Muestra la serie de la volatilidad anualizada.\n",
        "\n",
        "4.- Realiza una gráfica de barras para los rendimientos y una gráfica en líneas para los precios.\n",
        "\n",
        "5.- Calcula los rendimientos compuestos para cada columna y después anualiza los rendimientos.\n",
        "\n",
        "---"
      ],
      "metadata": {
        "id": "3HrFIodC4upj"
      }
    },
    {
      "cell_type": "markdown",
      "source": [
        "**Ejercicio 5:** Carga dos tickers y realiza los pasos del ejercicio anterior usando los tickers que elijas. Recuerda tomar en cuenta la ventana de tiempo que manejarás. Realiza un análisis estadístico (estadística descriptiva, histogramas y gráficas de series de tiempo)."
      ],
      "metadata": {
        "id": "HihHEDNk9RpH"
      }
    }
  ]
}