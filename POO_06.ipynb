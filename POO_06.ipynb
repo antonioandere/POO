{
  "nbformat": 4,
  "nbformat_minor": 0,
  "metadata": {
    "colab": {
      "provenance": []
    },
    "kernelspec": {
      "name": "python3",
      "display_name": "Python 3"
    },
    "language_info": {
      "name": "python"
    }
  },
  "cells": [
    {
      "cell_type": "markdown",
      "source": [
        "# Clases, herencias y poliformismos\n"
      ],
      "metadata": {
        "id": "GShVw17tk40S"
      }
    },
    {
      "cell_type": "markdown",
      "source": [
        "###Definiciones"
      ],
      "metadata": {
        "id": "7C7ubOElngoK"
      }
    },
    {
      "cell_type": "code",
      "source": [
        "#Vamos a crear una definición (que es una función integrada en Python)\n",
        "def Milanesi(a,b,c):\n",
        "  x=a+b*c\n",
        "  return x"
      ],
      "metadata": {
        "id": "_YSF-_5dot8v"
      },
      "execution_count": null,
      "outputs": []
    },
    {
      "cell_type": "code",
      "source": [
        "Milanesi(1,2,3)"
      ],
      "metadata": {
        "colab": {
          "base_uri": "https://localhost:8080/"
        },
        "id": "o-qqL0bmpZWg",
        "outputId": "23fcaf0a-b4b0-49c4-b0fe-f0b8ad26e675"
      },
      "execution_count": null,
      "outputs": [
        {
          "output_type": "execute_result",
          "data": {
            "text/plain": [
              "7"
            ]
          },
          "metadata": {},
          "execution_count": 4
        }
      ]
    },
    {
      "cell_type": "code",
      "source": [
        "#Vamos a crear una definición que calcule la inversa de una matriz\n",
        "def Inv_Matrix(M):\n",
        "  x=np.linalg.inv(M)\n",
        "  return x"
      ],
      "metadata": {
        "id": "sqPr-adXpnmu"
      },
      "execution_count": null,
      "outputs": []
    },
    {
      "cell_type": "code",
      "source": [
        "import numpy as np\n",
        "Matrix=np.random.randint(low=0,high=10,size=(4,4))\n",
        "Matrix"
      ],
      "metadata": {
        "colab": {
          "base_uri": "https://localhost:8080/"
        },
        "id": "vcD9JN6urOOI",
        "outputId": "c0fc86c0-fe41-4e5d-e234-eb7c845ccab0"
      },
      "execution_count": null,
      "outputs": [
        {
          "output_type": "execute_result",
          "data": {
            "text/plain": [
              "array([[3, 3, 2, 0],\n",
              "       [9, 7, 8, 2],\n",
              "       [4, 4, 1, 4],\n",
              "       [3, 9, 0, 2]])"
            ]
          },
          "metadata": {},
          "execution_count": 15
        }
      ]
    },
    {
      "cell_type": "code",
      "source": [
        "Inv_Matrix(Matrix)"
      ],
      "metadata": {
        "colab": {
          "base_uri": "https://localhost:8080/"
        },
        "id": "jMJHjMVCr1aK",
        "outputId": "cbe4d8f8-9bef-48c2-bbd6-619a3bc26162"
      },
      "execution_count": null,
      "outputs": [
        {
          "output_type": "execute_result",
          "data": {
            "text/plain": [
              "array([[-0.08101852,  0.06481481,  0.22916667,  0.02314815],\n",
              "       [ 0.16203704, -0.12962963,  0.54166667, -0.0462963 ],\n",
              "       [ 0.06481481,  0.14814815, -0.58333333, -0.01851852],\n",
              "       [-0.03472222,  0.02777778, -0.1875    ,  0.15277778]])"
            ]
          },
          "metadata": {},
          "execution_count": 14
        }
      ]
    },
    {
      "cell_type": "code",
      "source": [
        "Matrix.shape"
      ],
      "metadata": {
        "id": "gHFSk2Ib0r4Y",
        "outputId": "8c4a1c28-9c76-42e5-b80f-8eba7d8325ba",
        "colab": {
          "base_uri": "https://localhost:8080/"
        }
      },
      "execution_count": null,
      "outputs": [
        {
          "output_type": "execute_result",
          "data": {
            "text/plain": [
              "(4, 4)"
            ]
          },
          "metadata": {},
          "execution_count": 18
        }
      ]
    }
  ]
}